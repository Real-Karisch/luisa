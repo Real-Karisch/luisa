{
 "cells": [
  {
   "cell_type": "code",
   "execution_count": 5,
   "metadata": {},
   "outputs": [],
   "source": [
    "from PyPDF2 import PdfReader\n",
    "import re\n",
    "from datetime import datetime\n",
    "import json\n",
    "from copy import deepcopy\n",
    "\n",
    "from luisaPdfToJson import patterns, flatten, findDiaryDateIndices, parseDiaryEntryLines, addContentsToEntry, findDiaryFirstPageNum, generateSingleVolumeEntriesFromPdf, substitutions, insertions, loadVolumesJson"
   ]
  },
  {
   "cell_type": "code",
   "execution_count": 2,
   "metadata": {},
   "outputs": [],
   "source": [
    "entries = generateSingleVolumeEntriesFromPdf(18)"
   ]
  },
  {
   "cell_type": "code",
   "execution_count": 2,
   "metadata": {},
   "outputs": [],
   "source": [
    "def generateVolumes():\n",
    "    volumes = []\n",
    "    for i in range(2, 37):\n",
    "        print(f\"Volume {i}\")\n",
    "        volumes.append(\n",
    "            generateSingleVolumeEntriesFromPdf(\n",
    "                volumeNum=i\n",
    "            )\n",
    "        )\n",
    "    return volumes"
   ]
  },
  {
   "cell_type": "code",
   "execution_count": 3,
   "metadata": {},
   "outputs": [
    {
     "name": "stdout",
     "output_type": "stream",
     "text": [
      "Volume 2\n",
      "Volume 3\n",
      "Volume 4\n",
      "Volume 5\n",
      "Volume 6\n",
      "Volume 7\n",
      "Volume 8\n",
      "Volume 9\n",
      "Volume 10\n",
      "Volume 11\n",
      "Volume 12\n",
      "Volume 13\n",
      "Volume 14\n",
      "Volume 15\n",
      "Volume 16\n",
      "Volume 17\n",
      "Volume 18\n",
      "Volume 19\n",
      "Volume 20\n",
      "Volume 21\n",
      "Volume 22\n",
      "Volume 23\n",
      "Volume 24\n",
      "Volume 25\n",
      "Volume 26\n",
      "Volume 27\n",
      "Volume 28\n",
      "Volume 29\n",
      "Volume 30\n",
      "Volume 31\n",
      "Volume 32\n",
      "Volume 33\n",
      "Volume 34\n",
      "Volume 35\n",
      "Volume 36\n"
     ]
    }
   ],
   "source": [
    "volumes = generateVolumes()"
   ]
  },
  {
   "cell_type": "code",
   "execution_count": 4,
   "metadata": {},
   "outputs": [],
   "source": [
    "volumesStrDates = deepcopy(volumes)\n",
    "\n",
    "for volume in volumesStrDates:\n",
    "    for entry in volume:\n",
    "        entry['date'] = entry['date'].strftime('%m/%d/%Y')"
   ]
  },
  {
   "cell_type": "code",
   "execution_count": 5,
   "metadata": {},
   "outputs": [],
   "source": [
    "with open('./../data/allVolumes.json', 'w') as file:\n",
    "    file.write(json.dumps(volumesStrDates))"
   ]
  },
  {
   "cell_type": "code",
   "execution_count": 6,
   "metadata": {},
   "outputs": [],
   "source": [
    "with open('./../data/allVolumes.json', 'r') as file:\n",
    "    volumes = json.loads(file.read())\n",
    "    \n",
    "for volume in volumes:\n",
    "    for entry in volume:\n",
    "        entry['date'] = datetime.strptime(entry['date'], '%m/%d/%Y').date()"
   ]
  },
  {
   "cell_type": "code",
   "execution_count": 7,
   "metadata": {},
   "outputs": [
    {
     "name": "stdout",
     "output_type": "stream",
     "text": [
      "6, 02/12/1904\n",
      "20, 11/21/1926\n",
      "34, 12/29/1935\n"
     ]
    }
   ],
   "source": [
    "volumes = loadVolumesJson()\n",
    "\n",
    "volumeNum = 2\n",
    "for volume in volumes:\n",
    "    for entry in volume:\n",
    "        if entry['contents'] == '':\n",
    "            print(f\"{volumeNum}, {entry['date'].strftime('%m/%d/%Y')}\")\n",
    "\n",
    "    volumeNum += 1"
   ]
  }
 ],
 "metadata": {
  "kernelspec": {
   "display_name": "base",
   "language": "python",
   "name": "python3"
  },
  "language_info": {
   "codemirror_mode": {
    "name": "ipython",
    "version": 3
   },
   "file_extension": ".py",
   "mimetype": "text/x-python",
   "name": "python",
   "nbconvert_exporter": "python",
   "pygments_lexer": "ipython3",
   "version": "3.11.7"
  }
 },
 "nbformat": 4,
 "nbformat_minor": 2
}
